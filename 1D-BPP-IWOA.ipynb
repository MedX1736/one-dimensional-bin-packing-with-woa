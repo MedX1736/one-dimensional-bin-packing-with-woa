{
 "cells": [
  {
   "cell_type": "code",
   "execution_count": 634,
   "metadata": {},
   "outputs": [],
   "source": [
    "import math\n",
    "import numpy as np\n",
    "import matplotlib.pyplot as plt\n",
    "import random\n",
    "from copy import deepcopy"
   ]
  },
  {
   "cell_type": "code",
   "execution_count": 635,
   "metadata": {},
   "outputs": [],
   "source": [
    "class Whale:\n",
    "    def __init__(self, objects, fitness , pos):\n",
    "        self.objects = objects\n",
    "        self.fitness = fitness\n",
    "        self.pos = pos "
   ]
  },
  {
   "cell_type": "code",
   "execution_count": 636,
   "metadata": {},
   "outputs": [],
   "source": [
    "def decode_FF(items,position,bin_capacity):\n",
    "    bin =[]\n",
    "    bins = []\n",
    "    bin_capacity_remaining = bin_capacity\n",
    "    for i in position :\n",
    "        if(items[i-1] <= bin_capacity_remaining):\n",
    "            bin.append(items[i-1])\n",
    "            bin_capacity_remaining -= items[i-1]\n",
    "        else:\n",
    "            bins.append(bin)\n",
    "            bin_capacity_remaining = bin_capacity\n",
    "            bin = [items[i-1]]\n",
    "            bin_capacity_remaining -= items[i-1]\n",
    "    if bin : \n",
    "        bins.append(bin)\n",
    "    return bins , len(bins)"
   ]
  },
  {
   "cell_type": "code",
   "execution_count": 637,
   "metadata": {},
   "outputs": [],
   "source": [
    "def decode_FFC(items,position,bin_capacity):\n",
    "    bin =[]\n",
    "    bins = []\n",
    "    bin_capacity_remaining = bin_capacity\n",
    "    for i in position :\n",
    "        if(items[i-1] <= bin_capacity_remaining):\n",
    "            bin.append(i-1)\n",
    "            bin_capacity_remaining -= items[i-1]\n",
    "        else:\n",
    "            bins.append(bin)\n",
    "            bin_capacity_remaining = bin_capacity\n",
    "            bin = [i-1]\n",
    "            bin_capacity_remaining -= items[i-1]\n",
    "    if bin : \n",
    "        bins.append(bin)\n",
    "    return bins , len(bins)"
   ]
  },
  {
   "cell_type": "code",
   "execution_count": 638,
   "metadata": {},
   "outputs": [],
   "source": [
    "def decode_BF(items,position, bin_capacity):\n",
    "    bins = []   \n",
    "    for i in position:\n",
    "        bin_space = bin_capacity - items[i-1]\n",
    "        bin_num = -1\n",
    "        for i in range(len(bins)):\n",
    "            if sum(bins[i]) + items[i-1] <= bin_capacity and bin_capacity - sum(bins[i]) < bin_space:\n",
    "                bin_space = bin_capacity - sum(bins[i])\n",
    "                bin_num = i\n",
    "        if bin_num == -1:\n",
    "            bins.append([items[i-1]])\n",
    "        else:\n",
    "            bins[bin_num].append(items[i-1])\n",
    "    return bins , len(bins)"
   ]
  },
  {
   "cell_type": "code",
   "execution_count": 639,
   "metadata": {},
   "outputs": [
    {
     "name": "stdout",
     "output_type": "stream",
     "text": [
      "([[688, 9, 9, 9, 9, 9, 9, 9, 9, 9, 9, 9, 9, 9, 9]], 1)\n"
     ]
    }
   ],
   "source": [
    "pos = [2, 15, 11, 5, 9, 12, 7, 10, 1, 8, 4, 14, 13, 3, 6]\n",
    "bins = decode_BF(items,pos,bin_capacity)\n",
    "print(bins)"
   ]
  },
  {
   "cell_type": "code",
   "execution_count": 640,
   "metadata": {},
   "outputs": [],
   "source": [
    "def next_fit(items, bin_capacity):\n",
    "  bins = []\n",
    "  for item in items:\n",
    "      # Vérifier si on a deja un bin ou si le bin actuel ne suffit pas a l'objet courant pour créer un nouveau bin\n",
    "      sol_found = False\n",
    "      if not bins or sum(bins[-1]) + item > bin_capacity :\n",
    "          bins.append([item])\n",
    "      # Si le bin actuel suffit a l'objet courant\n",
    "      else:\n",
    "          bins[-1].append(item)\n",
    "  return bins\n"
   ]
  },
  {
   "cell_type": "code",
   "execution_count": 641,
   "metadata": {},
   "outputs": [],
   "source": [
    "def initialize_population(num_whales, items, bin_capacity):\n",
    "    population = []\n",
    "    for _ in range(num_whales):\n",
    "        whale = []\n",
    "        bin = []\n",
    "        bin_pos = []\n",
    "        bin_capacity_remaining = bin_capacity\n",
    "        items_pos = [i for i in range(1, num_items+1)]\n",
    "        random.shuffle(items_pos)  # Shuffle the items randomly\n",
    "        whale , fitness = decode_FF(items,items_pos,bin_capacity)\n",
    "        whale = Whale(whale, fitness , items_pos)  # Create an instance of whale\n",
    "        population.append(whale)\n",
    "    return population"
   ]
  },
  {
   "cell_type": "code",
   "execution_count": 642,
   "metadata": {},
   "outputs": [
    {
     "data": {
      "text/plain": [
       "1000"
      ]
     },
     "execution_count": 642,
     "metadata": {},
     "output_type": "execute_result"
    }
   ],
   "source": [
    "bin_capacity"
   ]
  },
  {
   "cell_type": "code",
   "execution_count": null,
   "metadata": {},
   "outputs": [],
   "source": [
    "items"
   ]
  },
  {
   "cell_type": "code",
   "execution_count": 644,
   "metadata": {},
   "outputs": [
    {
     "name": "stdout",
     "output_type": "stream",
     "text": [
      "[[688], [644], [663], [680], [671], [661], [676], [664], [697], [673], [682], [646], [650], [687], [677]]\n"
     ]
    }
   ],
   "source": [
    "pos = [2, 15, 11, 5, 9, 12, 7, 10, 1, 8, 4, 14, 13, 3, 6]\n",
    "bins , fitness = decode_FF(items,pos,bin_capacity)\n",
    "print(bins)"
   ]
  },
  {
   "cell_type": "code",
   "execution_count": 742,
   "metadata": {},
   "outputs": [],
   "source": [
    "def read_bpp_file(file_path):\n",
    "    with open(file_path, 'r') as f:\n",
    "        n = int(f.readline().strip())\n",
    "        capacity = int(f.readline().strip())\n",
    "        objects = [int(line.strip()) for line in f]\n",
    "    return (n, capacity, objects )\n",
    "(num_items , bin_capacity , items  ) = read_bpp_file('BPP_100_100_0.2_0.7_8.txt')  "
   ]
  },
  {
   "cell_type": "code",
   "execution_count": 646,
   "metadata": {},
   "outputs": [
    {
     "data": {
      "text/plain": [
       "180"
      ]
     },
     "execution_count": 646,
     "metadata": {},
     "output_type": "execute_result"
    }
   ],
   "source": [
    "num_items"
   ]
  },
  {
   "cell_type": "code",
   "execution_count": 647,
   "metadata": {},
   "outputs": [],
   "source": [
    "# num_whales = 10  # Number of whales in the population\n",
    "# bin_capacity = 10  # Capacity of each bin\n",
    "# num_items = 50\n",
    "# items = [random.randint(1, bin_capacity) for _ in range(num_items)]  # Number of items in the bin packing problem\n",
    "# # print(items)\n",
    "# population = initialize_population(num_whales, items, bin_capacity)\n",
    "\n",
    "# # Print the initialized population\n",
    "# # for whale in population:\n",
    "# #     print(\"Objects : \",whale.objects)\n",
    "# #     print(\"Position :\",whale.pos)\n",
    "# #     print(\"Fitness : \",whale.fitness)\n",
    "# #     print(\"_____________________________________\")"
   ]
  },
  {
   "cell_type": "code",
   "execution_count": 648,
   "metadata": {},
   "outputs": [],
   "source": [
    "def fitness(pos , items=items,capacity = bin_capacity):\n",
    "    whale , fitness = decode_FF(items,pos,bin_capacity)\n",
    "    return fitness"
   ]
  },
  {
   "cell_type": "code",
   "execution_count": 649,
   "metadata": {},
   "outputs": [
    {
     "data": {
      "text/plain": [
       "200"
      ]
     },
     "execution_count": 649,
     "metadata": {},
     "output_type": "execute_result"
    }
   ],
   "source": [
    "cap"
   ]
  },
  {
   "cell_type": "code",
   "execution_count": 650,
   "metadata": {},
   "outputs": [],
   "source": [
    "def Levyflight():\n",
    "    beta = 1.5\n",
    "    f1 = math.gamma(1+beta)\n",
    "    f2 = beta * math.gamma(1+beta) / 2\n",
    "    f3 = np.sin(np.pi*beta/2)\n",
    "    f4 = 2**( (beta-1)/2 )\n",
    "    sigma_u = ( f1/f2 * f3/f4 ) ** (2/beta)\n",
    "    sigma_v = 1.0 # (12)\n",
    "    \n",
    "    u = np.random.normal(0, sigma_u)\n",
    "    v = np.random.normal(0, sigma_v)\n",
    "    s = u / ( np.abs(v)**(1/beta) )\n",
    "    \n",
    "    return s\n",
    "            "
   ]
  },
  {
   "cell_type": "code",
   "execution_count": 651,
   "metadata": {},
   "outputs": [],
   "source": [
    "def decode_FF(items,position,bin_capacity):\n",
    "    bin =[]\n",
    "    bins = []\n",
    "    bin_capacity_remaining = bin_capacity\n",
    "    for i in position :\n",
    "        if(items[i-1] <= bin_capacity_remaining):\n",
    "            bin.append(items[i-1])\n",
    "            bin_capacity_remaining -= items[i-1]\n",
    "        else:\n",
    "            bins.append(bin)\n",
    "            bin_capacity_remaining = bin_capacity\n",
    "            bin = [items[i-1]]\n",
    "            bin_capacity_remaining -= items[i-1]\n",
    "    if bin : \n",
    "        bins.append(bin)\n",
    "    return bins , len(bins)"
   ]
  },
  {
   "cell_type": "code",
   "execution_count": 652,
   "metadata": {},
   "outputs": [
    {
     "data": {
      "text/plain": [
       "180"
      ]
     },
     "execution_count": 652,
     "metadata": {},
     "output_type": "execute_result"
    }
   ],
   "source": [
    "num_items"
   ]
  },
  {
   "cell_type": "code",
   "execution_count": 653,
   "metadata": {},
   "outputs": [
    {
     "data": {
      "text/plain": [
       "<function __main__.decode_FF(items, position, bin_capacity)>"
      ]
     },
     "execution_count": 653,
     "metadata": {},
     "output_type": "execute_result"
    }
   ],
   "source": [
    "decode_FF"
   ]
  },
  {
   "cell_type": "code",
   "execution_count": 764,
   "metadata": {},
   "outputs": [],
   "source": [
    "def best_agent(population):\n",
    "    best = min(population, key=lambda obj: obj.fitness)\n",
    "    return best\n",
    "\n",
    "def fix_pos(X):\n",
    "    list = [] \n",
    "    list_t = [i for i in range(1,num_items+1)]\n",
    "    for xd in X : \n",
    "        if xd not in list : \n",
    "            list.append(xd)\n",
    "            list_t.remove(xd)\n",
    "        else : \n",
    "            rd_idx = random.randrange(len(list_t))\n",
    "            list.append(list_t[rd_idx])\n",
    "            list_t.remove(list_t[rd_idx])\n",
    "    return list\n",
    "\n",
    "\n",
    "def levy_order_value(solution):\n",
    "    sorted_indices = np.argsort(solution)[::-1]  # Sort the solution indices in descending order\n",
    "    discrete_solution = np.zeros_like(solution)\n",
    "    for i, index in enumerate(sorted_indices):\n",
    "        discrete_solution[index] = i + 1  # Assign a discrete value based on the index position\n",
    "    return discrete_solution\n",
    "\n",
    "\n",
    "def apply_mutation(array):\n",
    "    if len(array) == 0:\n",
    "        return array  # Return the array as is if it's empty\n",
    "\n",
    "    # Step 1: Select two random indices within the range of valid indices\n",
    "    index1 = random.randint(0, len(array) - 1)\n",
    "    index2 = random.randint(0, len(array) - 1)\n",
    "\n",
    "    # Step 2: Swap the values at the two random indices\n",
    "    array[index1], array[index2] = array[index2], array[index1]\n",
    "\n",
    "    # Step 3: Shift the items by a random number of steps\n",
    "    num_steps = random.randint(2, len(array) - 2)\n",
    "    shifted_array = shift_array(array, num_steps)\n",
    "\n",
    "    return shifted_array\n",
    "\n",
    "def shift_array(array, num_steps):\n",
    "    num_steps = num_steps % len(array)  # Ensure steps are within valid range\n",
    "\n",
    "    shifted_array = array[num_steps:] + array[:num_steps]\n",
    "\n",
    "    return shifted_array \n",
    "\n",
    "def fitnessC(pos , items=items,capacity = bin_capacity):\n",
    "    whale , fitness = decode_FF(items,pos,bin_capacity)\n",
    "    return whale,fitness\n",
    "\n",
    "\n",
    "def opt(population):\n",
    "    ub=num_items\n",
    "    lb=1,\n",
    "    b=1 \n",
    "    a_max=2\n",
    "    a_min=0 \n",
    "    a2_max=-1\n",
    "    a2_min=-2\n",
    "    l_max=1\n",
    "    l_min=-1\n",
    "    runtimes  = 5\n",
    "    best = best_agent(population)\n",
    "    best_X = best.pos\n",
    "    best_F = best.fitness\n",
    "    pop = []\n",
    "    for _  in range(2): \n",
    "    \n",
    "        for whale in population :\n",
    "            X = whale.pos\n",
    "            F = whale.fitness\n",
    "            if F < best_F:\n",
    "                best_X = best.pos.copy()\n",
    "                best_F = F\n",
    "            a = a_max - (a_max-a_min)*(0.5)\n",
    "            a2 = a2_max - (a2_max-a2_min)*(0.5\n",
    "            )\n",
    "            p = np.random.uniform()\n",
    "            r1 = np.random.uniform()\n",
    "            r2 = np.random.uniform()\n",
    "            r3 = np.random.uniform()\n",
    "            A = 2*a*r1 - a #(2.3)\n",
    "            C = 2*r2 # (2.4)\n",
    "            l = (a2-1)*r3 + 1 # (???)\n",
    "            \n",
    "            if p>0.5:\n",
    "                D = np.abs(np.array(best_X) - np.array(X))\n",
    "                X = D*np.exp(b*l)*np.cos(2*np.pi*l)+best_X# (6)\n",
    "            else:\n",
    "                if np.abs(A)<1:\n",
    "                    C_arr = np.full_like(X, C)\n",
    "                    D = np.abs(C_arr*best_X - X)\n",
    "                    X = best_X - A*D # (2)\n",
    "                else:\n",
    "                    random_index = random.randint(0,num_whales-1)\n",
    "                    X_rand = population[random_index].pos\n",
    "                    C_arr = np.full_like(X_rand, C)\n",
    "                    D = np.abs(C_arr*X_rand - X)\n",
    "                    X = X_rand - A*D # (9)\n",
    "\n",
    "            \n",
    "            u = np.random.uniform()\n",
    "            r4 = np.random.uniform()\n",
    "            X = X +u*np.sign(r4-0.5)*Levyflight()\n",
    "\n",
    "            X = np.clip(X, lb, ub)\n",
    "            discrete = levy_order_value(X).tolist()\n",
    "            X = [int(xd) for xd in X]\n",
    "            objs ,fitness = decode_FF(items,X,bin_capacity)\n",
    "            whale.pos = discrete\n",
    "            whale.objects = objs\n",
    "            whale.fitness = fitness\n",
    "            if fitness < best_F : \n",
    "                best_F = fitness\n",
    "                best_X = X \n",
    "            else : \n",
    "                best_X = apply_mutation(best_X)\n",
    "                best_X = [int(xd) for xd in best_X]\n",
    "                # print(best_X)\n",
    "                _,F = fitnessC(best_X)\n",
    "            pop.append(decode_FFC(items,fix_pos(X),bin_capacity)[0])\n",
    "    return fix_pos(best_X) , pop\n"
   ]
  },
  {
   "cell_type": "code",
   "execution_count": null,
   "metadata": {},
   "outputs": [],
   "source": [
    "items"
   ]
  },
  {
   "cell_type": "code",
   "execution_count": 656,
   "metadata": {},
   "outputs": [
    {
     "data": {
      "text/plain": [
       "1000"
      ]
     },
     "execution_count": 656,
     "metadata": {},
     "output_type": "execute_result"
    }
   ],
   "source": [
    "bin_capacity"
   ]
  },
  {
   "cell_type": "code",
   "execution_count": 657,
   "metadata": {},
   "outputs": [
    {
     "data": {
      "text/plain": [
       "180"
      ]
     },
     "execution_count": 657,
     "metadata": {},
     "output_type": "execute_result"
    }
   ],
   "source": [
    "num_items"
   ]
  },
  {
   "cell_type": "code",
   "execution_count": 658,
   "metadata": {},
   "outputs": [
    {
     "name": "stdout",
     "output_type": "stream",
     "text": [
      "1000\n"
     ]
    }
   ],
   "source": [
    "print(bin_capacity)"
   ]
  },
  {
   "cell_type": "code",
   "execution_count": 659,
   "metadata": {},
   "outputs": [
    {
     "data": {
      "text/plain": [
       "180"
      ]
     },
     "execution_count": 659,
     "metadata": {},
     "output_type": "execute_result"
    }
   ],
   "source": [
    "num_items"
   ]
  },
  {
   "cell_type": "code",
   "execution_count": 660,
   "metadata": {},
   "outputs": [
    {
     "data": {
      "text/plain": [
       "180"
      ]
     },
     "execution_count": 660,
     "metadata": {},
     "output_type": "execute_result"
    }
   ],
   "source": [
    "len(items)"
   ]
  },
  {
   "cell_type": "code",
   "execution_count": 765,
   "metadata": {},
   "outputs": [
    {
     "name": "stdout",
     "output_type": "stream",
     "text": [
      "0.06494379043579102\n",
      "62\n"
     ]
    }
   ],
   "source": [
    "from time import time\n",
    "num_whales = 20\n",
    "population = initialize_population(num_whales, items, bin_capacity)\n",
    "start = time()\n",
    "solb,pop = opt(population)\n",
    "end = time()\n",
    "bins , numb = decode_FF(items , solb , bin_capacity)\n",
    "print(end-start)\n",
    "print(len(bins))"
   ]
  },
  {
   "cell_type": "code",
   "execution_count": 766,
   "metadata": {},
   "outputs": [
    {
     "name": "stdout",
     "output_type": "stream",
     "text": [
      "62\n"
     ]
    }
   ],
   "source": [
    "_ , num = decode_FF(items , solb , bin_capacity)\n",
    "print(num)"
   ]
  },
  {
   "cell_type": "code",
   "execution_count": 663,
   "metadata": {},
   "outputs": [],
   "source": [
    "import random\n",
    "\n",
    "def apply_mutation(array):\n",
    "    if len(array) == 0:\n",
    "        return array  # Return the array as is if it's empty\n",
    "\n",
    "    # Step 1: Select two random indices within the range of valid indices\n",
    "    index1 = random.randint(0, len(array) - 1)\n",
    "    index2 = random.randint(0, len(array) - 1)\n",
    "\n",
    "    # Step 2: Swap the values at the two random indices\n",
    "    array[index1], array[index2] = array[index2], array[index1]\n",
    "\n",
    "    # Step 3: Shift the items by a random number of steps\n",
    "    num_steps = random.randint(2, len(array) - 2)\n",
    "    shifted_array = shift_array(array, num_steps)\n",
    "\n",
    "    return shifted_array\n",
    "\n",
    "def shift_array(array, num_steps):\n",
    "    num_steps = num_steps % len(array)  # Ensure steps are within valid range\n",
    "\n",
    "    shifted_array = array[num_steps:] + array[:num_steps]\n",
    "\n",
    "    return shifted_array\n"
   ]
  },
  {
   "cell_type": "code",
   "execution_count": 664,
   "metadata": {},
   "outputs": [
    {
     "data": {
      "text/plain": [
       "[0.4, 4, 0.3, 0.2]"
      ]
     },
     "execution_count": 664,
     "metadata": {},
     "output_type": "execute_result"
    }
   ],
   "source": [
    "import numpy as np\n",
    "X  = [0.2 , 0.3 , .4 , 4]\n",
    "X= apply_mutation(X)\n",
    "X"
   ]
  },
  {
   "cell_type": "code",
   "execution_count": 665,
   "metadata": {},
   "outputs": [],
   "source": [
    "import numpy as np\n",
    "\n",
    "def rov_discretization(data, num_bins):\n",
    "    # Sort the data in ascending order\n",
    "\n",
    "    # Determine the bin size based on the number of bins\n",
    "    bin_size = len(data) // num_bins\n",
    "\n",
    "    # Create an empty array to store the discretized values\n",
    "    discretized_data = np.zeros_like(data)\n",
    "\n",
    "    # Assign the ranks to the data\n",
    "    for i in range(num_bins):\n",
    "        start_index = i * bin_size\n",
    "        end_index = start_index + bin_size\n",
    "\n",
    "        # Assign the rank values to the corresponding range of data\n",
    "        discretized_data[start_index:end_index] = i\n",
    "\n",
    "    return discretized_data"
   ]
  },
  {
   "cell_type": "code",
   "execution_count": 666,
   "metadata": {},
   "outputs": [
    {
     "data": {
      "text/plain": [
       "array([0., 1., 2., 3., 4., 5.])"
      ]
     },
     "execution_count": 666,
     "metadata": {},
     "output_type": "execute_result"
    }
   ],
   "source": [
    "list =  [4.29,1.00, 4.59, 5.40, 2.00, 5.10]\n",
    "X = rov_discretization(list,6)\n",
    "X"
   ]
  },
  {
   "cell_type": "code",
   "execution_count": 667,
   "metadata": {},
   "outputs": [
    {
     "ename": "NameError",
     "evalue": "name 'D' is not defined",
     "output_type": "error",
     "traceback": [
      "\u001b[1;31m---------------------------------------------------------------------------\u001b[0m",
      "\u001b[1;31mNameError\u001b[0m                                 Traceback (most recent call last)",
      "Cell \u001b[1;32mIn [667], line 4\u001b[0m\n\u001b[0;32m      2\u001b[0m run_times \u001b[38;5;241m=\u001b[39m \u001b[38;5;241m50\u001b[39m ; \n\u001b[0;32m      3\u001b[0m \u001b[38;5;28;01mfor\u001b[39;00m _ \u001b[38;5;129;01min\u001b[39;00m \u001b[38;5;28mrange\u001b[39m(run_times) : \n\u001b[1;32m----> 4\u001b[0m     optimizer \u001b[38;5;241m=\u001b[39m \u001b[43mLWOA\u001b[49m\u001b[43m(\u001b[49m\u001b[43mfitness\u001b[49m\u001b[38;5;241;43m=\u001b[39;49m\u001b[43mfitness\u001b[49m\u001b[43m)\u001b[49m\n\u001b[0;32m      5\u001b[0m     st \u001b[38;5;241m=\u001b[39m time\u001b[38;5;241m.\u001b[39mtime()\n\u001b[0;32m      6\u001b[0m     optimizer\u001b[38;5;241m.\u001b[39mopt()\n",
      "Cell \u001b[1;32mIn [129], line 5\u001b[0m, in \u001b[0;36mLWOA.__init__\u001b[1;34m(self, fitness, ub, lb, b, a_max, a_min, a2_max, a2_min, l_max, l_min)\u001b[0m\n\u001b[0;32m      2\u001b[0m \u001b[38;5;28;01mdef\u001b[39;00m \u001b[38;5;21m__init__\u001b[39m(\u001b[38;5;28mself\u001b[39m, fitness, ub\u001b[38;5;241m=\u001b[39m\u001b[38;5;241m1\u001b[39m, lb\u001b[38;5;241m=\u001b[39m\u001b[38;5;241m0\u001b[39m,\n\u001b[0;32m      3\u001b[0m b\u001b[38;5;241m=\u001b[39m\u001b[38;5;241m1\u001b[39m, a_max\u001b[38;5;241m=\u001b[39m\u001b[38;5;241m2\u001b[39m, a_min\u001b[38;5;241m=\u001b[39m\u001b[38;5;241m0\u001b[39m, a2_max\u001b[38;5;241m=\u001b[39m\u001b[38;5;241m-\u001b[39m\u001b[38;5;241m1\u001b[39m, a2_min\u001b[38;5;241m=\u001b[39m\u001b[38;5;241m-\u001b[39m\u001b[38;5;241m2\u001b[39m, l_max\u001b[38;5;241m=\u001b[39m\u001b[38;5;241m1\u001b[39m, l_min\u001b[38;5;241m=\u001b[39m\u001b[38;5;241m-\u001b[39m\u001b[38;5;241m1\u001b[39m):\n\u001b[0;32m      4\u001b[0m     \u001b[38;5;28mself\u001b[39m\u001b[38;5;241m.\u001b[39mfitness \u001b[38;5;241m=\u001b[39m fitness\n\u001b[1;32m----> 5\u001b[0m     \u001b[38;5;28mself\u001b[39m\u001b[38;5;241m.\u001b[39mD \u001b[38;5;241m=\u001b[39m \u001b[43mD\u001b[49m\n\u001b[0;32m      6\u001b[0m     \u001b[38;5;28mself\u001b[39m\u001b[38;5;241m.\u001b[39mP \u001b[38;5;241m=\u001b[39m P\n\u001b[0;32m      7\u001b[0m     \u001b[38;5;28mself\u001b[39m\u001b[38;5;241m.\u001b[39mG \u001b[38;5;241m=\u001b[39m G\n",
      "\u001b[1;31mNameError\u001b[0m: name 'D' is not defined"
     ]
    }
   ],
   "source": [
    "import time\n",
    "run_times = 50 ; \n",
    "for _ in range(run_times) : \n",
    "    optimizer = LWOA(fitness=fitness)\n",
    "    st = time.time()\n",
    "    optimizer.opt()\n",
    "    ed = time.time()"
   ]
  },
  {
   "cell_type": "code",
   "execution_count": 755,
   "metadata": {},
   "outputs": [
    {
     "name": "stdout",
     "output_type": "stream",
     "text": [
      "[2. 5. 4. 1. 3.]\n"
     ]
    }
   ],
   "source": [
    "import numpy as np\n",
    "\n",
    "def levy_order_value(solution):\n",
    "    sorted_indices = np.argsort(solution)[::-1]  # Sort the solution indices in descending order\n",
    "    discrete_solution = np.zeros_like(solution)\n",
    "    for i, index in enumerate(sorted_indices):\n",
    "        discrete_solution[index] = i + 1  # Assign a discrete value based on the index position\n",
    "    return discrete_solution\n",
    "\n",
    "# Example usage\n",
    "continuous_solution = np.array([0.9, 0.2, 0.2, 1.9, 0.3])\n",
    "discrete_solution = levy_order_value(continuous_solution)\n",
    "print(discrete_solution)"
   ]
  },
  {
   "cell_type": "code",
   "execution_count": null,
   "metadata": {},
   "outputs": [],
   "source": []
  },
  {
   "cell_type": "code",
   "execution_count": null,
   "metadata": {},
   "outputs": [],
   "source": []
  }
 ],
 "metadata": {
  "kernelspec": {
   "display_name": "Python 3.10.8 64-bit",
   "language": "python",
   "name": "python3"
  },
  "language_info": {
   "codemirror_mode": {
    "name": "ipython",
    "version": 3
   },
   "file_extension": ".py",
   "mimetype": "text/x-python",
   "name": "python",
   "nbconvert_exporter": "python",
   "pygments_lexer": "ipython3",
   "version": "3.10.8"
  },
  "orig_nbformat": 4,
  "vscode": {
   "interpreter": {
    "hash": "beedbe2faf2f7048d727558d0bc3221e7eba2a0b921cac4d4771b2feb8f74b30"
   }
  }
 },
 "nbformat": 4,
 "nbformat_minor": 2
}
